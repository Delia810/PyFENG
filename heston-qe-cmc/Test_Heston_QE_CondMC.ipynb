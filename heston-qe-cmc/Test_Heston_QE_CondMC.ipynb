{
 "cells": [
  {
   "cell_type": "markdown",
   "metadata": {},
   "source": [
    "# Conditional MC of Heston Model based on QE Scheme"
   ]
  },
  {
   "cell_type": "code",
   "execution_count": 1,
   "metadata": {},
   "outputs": [],
   "source": [
    "import numpy as np\n",
    "import matplotlib.pyplot as plt\n",
    "import pyfeng as pf\n",
    "import option_models as opt"
   ]
  },
  {
   "cell_type": "code",
   "execution_count": 2,
   "metadata": {},
   "outputs": [],
   "source": [
    "# Parameters\n",
    "strike = [100.0, 140.0, 70.0]\n",
    "forward = 100\n",
    "sigma = 0.2\n",
    "texp = 10\n",
    "vov = 1\n",
    "rho = -0.9\n",
    "kappa = 0.5\n",
    "theta = 0.04\n",
    "beta = 1\n",
    "delta = [1, 1/2, 1/4, 1/8, 1/16, 1/32]"
   ]
  },
  {
   "cell_type": "code",
   "execution_count": 3,
   "metadata": {},
   "outputs": [
    {
     "name": "stderr",
     "output_type": "stream",
     "text": [
      "100%|██████████████████████████████████████████████████████████████████████████████████| 10/10 [00:17<00:00,  1.80s/it]\n",
      "100%|██████████████████████████████████████████████████████████████████████████████████| 20/20 [00:33<00:00,  1.66s/it]\n",
      "100%|██████████████████████████████████████████████████████████████████████████████████| 40/40 [01:16<00:00,  1.90s/it]\n",
      "100%|██████████████████████████████████████████████████████████████████████████████████| 80/80 [02:35<00:00,  1.95s/it]\n",
      "100%|████████████████████████████████████████████████████████████████████████████████| 160/160 [04:58<00:00,  1.87s/it]\n",
      "100%|████████████████████████████████████████████████████████████████████████████████| 320/320 [08:33<00:00,  1.60s/it]\n"
     ]
    }
   ],
   "source": [
    "heston_cmc_qe = opt.heston.HestonCondMC(sigma, vov=vov, rho=rho, kappa=kappa, theta=theta)\n",
    "price_cmc = np.zeros([len(delta), len(strike)])\n",
    "for d in range(len(delta)):\n",
    "    price_cmc[d, :] = heston_cmc_qe.price(strike, forward, texp, delta=delta[d], path=1000000, seed=123456)"
   ]
  },
  {
   "cell_type": "code",
   "execution_count": 4,
   "metadata": {},
   "outputs": [
    {
     "data": {
      "text/plain": [
       "array([[ 3.34998744,  0.02410105, 23.30294472],\n",
       "       [ 3.23507543,  0.02801529, 22.36559862],\n",
       "       [ 3.18355573,  0.02807538, 22.0758467 ],\n",
       "       [ 3.16537776,  0.02758112, 22.03001859],\n",
       "       [ 3.1643745 ,  0.02732197, 22.04760013],\n",
       "       [ 3.1600391 ,  0.02736674, 22.01941521]])"
      ]
     },
     "execution_count": 4,
     "metadata": {},
     "output_type": "execute_result"
    }
   ],
   "source": [
    "price_cmc"
   ]
  }
 ],
 "metadata": {
  "kernelspec": {
   "display_name": "Python 3",
   "language": "python",
   "name": "python3"
  },
  "language_info": {
   "codemirror_mode": {
    "name": "ipython",
    "version": 3
   },
   "file_extension": ".py",
   "mimetype": "text/x-python",
   "name": "python",
   "nbconvert_exporter": "python",
   "pygments_lexer": "ipython3",
   "version": "3.7.4"
  }
 },
 "nbformat": 4,
 "nbformat_minor": 2
}
